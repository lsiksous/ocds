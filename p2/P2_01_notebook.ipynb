{
 "cells": [
  {
   "cell_type": "markdown",
   "metadata": {},
   "source": [
    "[https://openclassrooms.com/fr/paths/164/projects/627/assignment](https://openclassrooms.com/fr/paths/164/projects/627/assignment)\n",
    "\n"
   ]
  },
  {
   "cell_type": "markdown",
   "metadata": {},
   "source": [
    "## Preamble\n",
    "\n"
   ]
  },
  {
   "cell_type": "code",
   "execution_count": 95,
   "metadata": {},
   "outputs": [
    {
     "ename": "ModuleNotFoundError",
     "evalue": "No module named 'seaborn'",
     "output_type": "error",
     "traceback": [
      "\u001b[0;31m---------------------------------------------------------------------------\u001b[0m",
      "\u001b[0;31mModuleNotFoundError\u001b[0m                       Traceback (most recent call last)",
      "\u001b[0;32m<ipython-input-95-07b60a456043>\u001b[0m in \u001b[0;36m<module>\u001b[0;34m\u001b[0m\n\u001b[1;32m      2\u001b[0m \u001b[0;32mimport\u001b[0m \u001b[0mpandas\u001b[0m \u001b[0;32mas\u001b[0m \u001b[0mpd\u001b[0m \u001b[0;31m# data processing, CSV file I/O (e.g. pd.read_csv)\u001b[0m\u001b[0;34m\u001b[0m\u001b[0;34m\u001b[0m\u001b[0m\n\u001b[1;32m      3\u001b[0m \u001b[0;32mimport\u001b[0m \u001b[0mmatplotlib\u001b[0m\u001b[0;34m.\u001b[0m\u001b[0mpyplot\u001b[0m \u001b[0;32mas\u001b[0m \u001b[0mplt\u001b[0m\u001b[0;34m\u001b[0m\u001b[0;34m\u001b[0m\u001b[0m\n\u001b[0;32m----> 4\u001b[0;31m \u001b[0;32mimport\u001b[0m \u001b[0mseaborn\u001b[0m \u001b[0;32mas\u001b[0m \u001b[0msns\u001b[0m\u001b[0;34m\u001b[0m\u001b[0;34m\u001b[0m\u001b[0m\n\u001b[0m\u001b[1;32m      5\u001b[0m \u001b[0;34m\u001b[0m\u001b[0m\n\u001b[1;32m      6\u001b[0m \u001b[0mget_ipython\u001b[0m\u001b[0;34m(\u001b[0m\u001b[0;34m)\u001b[0m\u001b[0;34m.\u001b[0m\u001b[0mrun_line_magic\u001b[0m\u001b[0;34m(\u001b[0m\u001b[0;34m'matplotlib'\u001b[0m\u001b[0;34m,\u001b[0m \u001b[0;34m'inline'\u001b[0m\u001b[0;34m)\u001b[0m\u001b[0;34m\u001b[0m\u001b[0;34m\u001b[0m\u001b[0m\n",
      "\u001b[0;31mModuleNotFoundError\u001b[0m: No module named 'seaborn'"
     ]
    }
   ],
   "source": [
    "import numpy as np # linear algebra\n",
    "import pandas as pd # data processing, CSV file I/O (e.g. pd.read_csv)\n",
    "import matplotlib.pyplot as plt\n",
    "import seaborn as sns\n",
    "\n",
    "%matplotlib inline"
   ]
  },
  {
   "cell_type": "markdown",
   "metadata": {},
   "source": [
    "## Objectifs"
   ]
  },
  {
   "cell_type": "markdown",
   "metadata": {},
   "source": [
    "Déterminer si les [données sur l’éducation de la banque mondiale](https://datacatalog.worldbank.org/dataset/education-statistics) permettent\n",
    "d’informer le projet d’expansion de l'entreprise.\n",
    "\n",
    "-   Quels sont les pays avec un fort potentiel de clients pour nos services ?\n",
    "-   Pour chacun de ces pays, quelle sera l’évolution de ce potentiel de clients ?\n",
    "-   Dans quels pays l'entreprise doit-elle opérer en priorité ?\n",
    "\n"
   ]
  },
  {
   "cell_type": "markdown",
   "metadata": {},
   "source": [
    "## Analyse exploratoire"
   ]
  },
  {
   "cell_type": "markdown",
   "metadata": {},
   "source": [
    "-   Valider la qualité de ce jeu de données (comporte-t-il beaucoup de données\n",
    "    manquantes, dupliquées ?)\n",
    "-   Décrire les informations contenues dans le jeu de données (nombre de colonnes\n",
    "    ? nombre de lignes ?)\n",
    "-   Sélectionner les informations qui semblent pertinentes pour répondre à la\n",
    "    problématique (quelles sont les colonnes contenant des informations qui\n",
    "    peuvent être utiles pour répondre à la problématique de l’entreprise ?)\n",
    "-   Déterminer des ordres de grandeurs des indicateurs statistiques classiques\n",
    "    pour les différentes zones géographiques et pays du monde\n",
    "    (moyenne/médiane/écart-type par pays et par continent ou bloc géographique)\n",
    "\n"
   ]
  },
  {
   "cell_type": "markdown",
   "metadata": {},
   "source": [
    "### Loading Data"
   ]
  },
  {
   "cell_type": "code",
   "execution_count": 3,
   "metadata": {},
   "outputs": [],
   "source": [
    "ed_sets = {'country_series': 'EdStatsCountry-Series.csv',\n",
    "           'foot_note': 'EdStatsFootNote.csv',\n",
    "           'country': 'EdStatsCountry.csv',\n",
    "           'series': 'EdStatsSeries.csv',\n",
    "           'data': 'EdStatsData.csv'}"
   ]
  },
  {
   "cell_type": "code",
   "execution_count": 4,
   "metadata": {},
   "outputs": [
    {
     "name": "stdout",
     "output_type": "stream",
     "text": [
      "--- EdStatsCountry-Series.csv\n",
      "(613, 4)\n",
      "CountryCode      0\n",
      "SeriesCode       0\n",
      "DESCRIPTION      0\n",
      "Unnamed: 3     613\n",
      "dtype: int64\n",
      "--- EdStatsFootNote.csv\n",
      "(643638, 5)\n",
      "CountryCode         0\n",
      "SeriesCode          0\n",
      "Year                0\n",
      "DESCRIPTION         0\n",
      "Unnamed: 4     643638\n",
      "dtype: int64\n",
      "--- EdStatsCountry.csv\n",
      "(241, 32)\n",
      "Country Code                                           0\n",
      "Short Name                                             0\n",
      "Table Name                                             0\n",
      "Long Name                                              0\n",
      "2-alpha code                                           3\n",
      "Currency Unit                                         26\n",
      "Special Notes                                         96\n",
      "Region                                                27\n",
      "Income Group                                          27\n",
      "WB-2 code                                              1\n",
      "National accounts base year                           36\n",
      "National accounts reference year                     209\n",
      "SNA price valuation                                   44\n",
      "Lending category                                      97\n",
      "Other groups                                         183\n",
      "System of National Accounts                           26\n",
      "Alternative conversion factor                        194\n",
      "PPP survey year                                       96\n",
      "Balance of Payments Manual in use                     60\n",
      "External debt Reporting status                       117\n",
      "System of trade                                       41\n",
      "Government Accounting concept                         80\n",
      "IMF data dissemination standard                       60\n",
      "Latest population census                              28\n",
      "Latest household survey                              100\n",
      "Source of most recent Income and expenditure data     81\n",
      "Vital registration complete                          130\n",
      "Latest agricultural census                            99\n",
      "Latest industrial data                               134\n",
      "Latest trade data                                     56\n",
      "Latest water withdrawal data                          62\n",
      "Unnamed: 31                                          241\n",
      "dtype: int64\n",
      "--- EdStatsSeries.csv\n",
      "(3665, 21)\n",
      "Series Code                               0\n",
      "Topic                                     0\n",
      "Indicator Name                            0\n",
      "Short definition                       1509\n",
      "Long definition                           0\n",
      "Unit of measure                        3665\n",
      "Periodicity                            3566\n",
      "Base Period                            3351\n",
      "Other notes                            3113\n",
      "Aggregation method                     3618\n",
      "Limitations and exceptions             3651\n",
      "Notes from original source             3665\n",
      "General comments                       3651\n",
      "Source                                    0\n",
      "Statistical concept and methodology    3642\n",
      "Development relevance                  3662\n",
      "Related source links                   3450\n",
      "Other web links                        3665\n",
      "Related indicators                     3665\n",
      "License Type                           3665\n",
      "Unnamed: 20                            3665\n",
      "dtype: int64\n",
      "--- EdStatsData.csv\n",
      "(886930, 70)\n",
      "Country Name           0\n",
      "Country Code           0\n",
      "Indicator Name         0\n",
      "Indicator Code         0\n",
      "1970              814642\n",
      "                   ...  \n",
      "2085              835494\n",
      "2090              835494\n",
      "2095              835494\n",
      "2100              835494\n",
      "Unnamed: 69       886930\n",
      "Length: 70, dtype: int64\n"
     ]
    }
   ],
   "source": [
    "for key, val in ed_sets.items():\n",
    "    exec(\"file = 'data/\" + val + \"'\")\n",
    "    exec(key + \"= pd.read_csv(file)\")\n",
    "    print(\"--- \" + val)\n",
    "    exec(\"print(\" + key + \".shape)\")\n",
    "    exec(\"print(\" + key + \".isna().sum())\")"
   ]
  },
  {
   "cell_type": "markdown",
   "metadata": {},
   "source": [
    "-   We can safely remove the last column of all the datasets:\n",
    "\n"
   ]
  },
  {
   "cell_type": "code",
   "execution_count": 5,
   "metadata": {},
   "outputs": [],
   "source": [
    "del data['Unnamed: 69']\n",
    "del series['Unnamed: 20']\n",
    "del country['Unnamed: 31']\n",
    "del foot_note['Unnamed: 4']\n",
    "del country_series['Unnamed: 3']"
   ]
  },
  {
   "cell_type": "markdown",
   "metadata": {},
   "source": [
    "-   Do we find every indicator from the series table in our main dataset ?\n",
    "\n"
   ]
  },
  {
   "cell_type": "code",
   "execution_count": 6,
   "metadata": {},
   "outputs": [
    {
     "name": "stdout",
     "output_type": "stream",
     "text": [
      "3665\n"
     ]
    }
   ],
   "source": [
    "print(len(data['Indicator Code'].unique()))"
   ]
  },
  {
   "cell_type": "markdown",
   "metadata": {},
   "source": [
    "-   3665 indicators for 241 countries equals to 883 265, a little less than the\n",
    "    886 930 rows of our main data. Do we have the same number of countries in the\n",
    "    latter ?\n",
    "\n"
   ]
  },
  {
   "cell_type": "code",
   "execution_count": 7,
   "metadata": {},
   "outputs": [
    {
     "name": "stdout",
     "output_type": "stream",
     "text": [
      "242\n"
     ]
    }
   ],
   "source": [
    "print(len(data['Country Code'].unique()))"
   ]
  },
  {
   "cell_type": "markdown",
   "metadata": {},
   "source": [
    "Which country is not referenced in the EdStatsCountry data set ?"
   ]
  },
  {
   "cell_type": "code",
   "execution_count": 8,
   "metadata": {},
   "outputs": [
    {
     "name": "stdout",
     "output_type": "stream",
     "text": [
      "                  Country Name Country Code  \\\n",
      "190580  British Virgin Islands          VGB   \n",
      "190581  British Virgin Islands          VGB   \n",
      "190582  British Virgin Islands          VGB   \n",
      "190583  British Virgin Islands          VGB   \n",
      "190584  British Virgin Islands          VGB   \n",
      "...                        ...          ...   \n",
      "194240  British Virgin Islands          VGB   \n",
      "194241  British Virgin Islands          VGB   \n",
      "194242  British Virgin Islands          VGB   \n",
      "194243  British Virgin Islands          VGB   \n",
      "194244  British Virgin Islands          VGB   \n",
      "\n",
      "                                           Indicator Name  \\\n",
      "190580  Adjusted net enrolment rate, lower secondary, ...   \n",
      "190581  Adjusted net enrolment rate, lower secondary, ...   \n",
      "190582  Adjusted net enrolment rate, lower secondary, ...   \n",
      "190583  Adjusted net enrolment rate, lower secondary, ...   \n",
      "190584  Adjusted net enrolment rate, primary, both sex...   \n",
      "...                                                   ...   \n",
      "194240  Youth illiterate population, 15-24 years, male...   \n",
      "194241  Youth literacy rate, population 15-24 years, b...   \n",
      "194242  Youth literacy rate, population 15-24 years, f...   \n",
      "194243  Youth literacy rate, population 15-24 years, g...   \n",
      "194244  Youth literacy rate, population 15-24 years, m...   \n",
      "\n",
      "              Indicator Code  1970  1971  1972  1973  1974  1975  ...  2055  \\\n",
      "190580            UIS.NERA.2   NaN   NaN   NaN   NaN   NaN   NaN  ...   NaN   \n",
      "190581          UIS.NERA.2.F   NaN   NaN   NaN   NaN   NaN   NaN  ...   NaN   \n",
      "190582        UIS.NERA.2.GPI   NaN   NaN   NaN   NaN   NaN   NaN  ...   NaN   \n",
      "190583          UIS.NERA.2.M   NaN   NaN   NaN   NaN   NaN   NaN  ...   NaN   \n",
      "190584           SE.PRM.TENR   NaN   NaN   NaN   NaN   NaN   NaN  ...   NaN   \n",
      "...                      ...   ...   ...   ...   ...   ...   ...  ...   ...   \n",
      "194240      UIS.LP.AG15T24.M   NaN   NaN   NaN   NaN   NaN   NaN  ...   NaN   \n",
      "194241     SE.ADT.1524.LT.ZS   NaN   NaN   NaN   NaN   NaN   NaN  ...   NaN   \n",
      "194242  SE.ADT.1524.LT.FE.ZS   NaN   NaN   NaN   NaN   NaN   NaN  ...   NaN   \n",
      "194243  SE.ADT.1524.LT.FM.ZS   NaN   NaN   NaN   NaN   NaN   NaN  ...   NaN   \n",
      "194244  SE.ADT.1524.LT.MA.ZS   NaN   NaN   NaN   NaN   NaN   NaN  ...   NaN   \n",
      "\n",
      "        2060  2065  2070  2075  2080  2085  2090  2095  2100  \n",
      "190580   NaN   NaN   NaN   NaN   NaN   NaN   NaN   NaN   NaN  \n",
      "190581   NaN   NaN   NaN   NaN   NaN   NaN   NaN   NaN   NaN  \n",
      "190582   NaN   NaN   NaN   NaN   NaN   NaN   NaN   NaN   NaN  \n",
      "190583   NaN   NaN   NaN   NaN   NaN   NaN   NaN   NaN   NaN  \n",
      "190584   NaN   NaN   NaN   NaN   NaN   NaN   NaN   NaN   NaN  \n",
      "...      ...   ...   ...   ...   ...   ...   ...   ...   ...  \n",
      "194240   NaN   NaN   NaN   NaN   NaN   NaN   NaN   NaN   NaN  \n",
      "194241   NaN   NaN   NaN   NaN   NaN   NaN   NaN   NaN   NaN  \n",
      "194242   NaN   NaN   NaN   NaN   NaN   NaN   NaN   NaN   NaN  \n",
      "194243   NaN   NaN   NaN   NaN   NaN   NaN   NaN   NaN   NaN  \n",
      "194244   NaN   NaN   NaN   NaN   NaN   NaN   NaN   NaN   NaN  \n",
      "\n",
      "[3665 rows x 69 columns]\n"
     ]
    }
   ],
   "source": [
    "for i in list(set(data['Country Code'].unique()) - set(country['Country Code'].unique())):\n",
    "      print(data.loc[data['Country Code'] == i])"
   ]
  },
  {
   "cell_type": "markdown",
   "metadata": {},
   "source": [
    "The British Virgin Islands are the one unidentified country that have data in the EdStatsData set.\n",
    "As a british territory with only 30.000 inhabitants, it may not be pertinent to keep it in our study as with other such countries..."
   ]
  },
  {
   "cell_type": "markdown",
   "metadata": {},
   "source": [
    "Some indicators are given by aggregate groups of countries. As we're looking for a country, we discard those indicators."
   ]
  },
  {
   "cell_type": "code",
   "execution_count": 42,
   "metadata": {},
   "outputs": [],
   "source": [
    "for i in list(country[country['Region'].isnull()]['Country Code']):\n",
    "    ids = data[data['Country Code'] == i].index\n",
    "    data.drop(ids, inplace=True)"
   ]
  },
  {
   "cell_type": "markdown",
   "metadata": {},
   "source": [
    "We will also discard countries that are provinces or islands with less than 100k inhabitants."
   ]
  },
  {
   "cell_type": "code",
   "execution_count": 48,
   "metadata": {},
   "outputs": [],
   "source": [
    "pop = data[data['Indicator Name'] == 'Population, total'][['Country Name', '2015']]\n",
    "excluded_countries = list(pop[pop['2015'] < 100000]['Country Name'])\n",
    "\n",
    "for i in excluded_countries:\n",
    "    ids = data[data['Country Name'] == i].index\n",
    "    data.drop(ids, inplace=True)"
   ]
  },
  {
   "cell_type": "code",
   "execution_count": 49,
   "metadata": {},
   "outputs": [
    {
     "name": "stdout",
     "output_type": "stream",
     "text": [
      "196\n"
     ]
    }
   ],
   "source": [
    "print(len(data['Country Code'].unique()))"
   ]
  },
  {
   "cell_type": "markdown",
   "metadata": {},
   "source": [
    "### Missing values"
   ]
  },
  {
   "cell_type": "markdown",
   "metadata": {},
   "source": [
    "As we're a french company, we're looking for indicators available equally for france and our target country."
   ]
  },
  {
   "cell_type": "code",
   "execution_count": 50,
   "metadata": {},
   "outputs": [],
   "source": [
    "france = data[data['Country Code'] == 'FRA']\n",
    "indicators = france['Indicator Code'].unique()\n",
    "years = france[france.columns[4:]]\n",
    "\n",
    "# There is 3665 indicators\n",
    "num_ind = years.shape[0]\n",
    "\n",
    "# There is 65 columns of yearly data\n",
    "num_years = years.shape[1]\n",
    "\n",
    "# list of years\n",
    "years = years.columns"
   ]
  },
  {
   "cell_type": "markdown",
   "metadata": {},
   "source": [
    "Let's find indicators that are empty or poorly filled"
   ]
  },
  {
   "cell_type": "code",
   "execution_count": 78,
   "metadata": {},
   "outputs": [
    {
     "name": "stdout",
     "output_type": "stream",
     "text": [
      "1000\n"
     ]
    }
   ],
   "source": [
    "unusable_indicators = []\n",
    "\n",
    "# filling rate\n",
    "rate = 0.8\n",
    "threshold = num_years - round(num_years * rate, 0)\n",
    "\n",
    "for i in indicators:\n",
    "    # non missing values by indicator (row)\n",
    "    na_row = num_years - int(france[france['Indicator Code'] == i].isnull().sum(axis=1))\n",
    "    if na_row <= threshold:\n",
    "        unusable_indicators.append(i)\n",
    " \n",
    "num_ind = num_ind - len(unusable_indicators)\n",
    "print(num_ind)"
   ]
  },
  {
   "cell_type": "markdown",
   "metadata": {},
   "source": [
    "From now on, we will use a subset of 1000 indicators."
   ]
  },
  {
   "cell_type": "code",
   "execution_count": 72,
   "metadata": {},
   "outputs": [],
   "source": [
    "for i in unusable_indicators:\n",
    "    ids = data[data['Indicator Code'] == i].index\n",
    "    data.drop(ids, inplace=True)"
   ]
  },
  {
   "cell_type": "code",
   "execution_count": 74,
   "metadata": {},
   "outputs": [
    {
     "data": {
      "text/plain": [
       "(196000, 69)"
      ]
     },
     "execution_count": 74,
     "metadata": {},
     "output_type": "execute_result"
    }
   ],
   "source": [
    "data.shape"
   ]
  },
  {
   "cell_type": "markdown",
   "metadata": {},
   "source": [
    "196 countries and 1000 indicators for 65 years."
   ]
  },
  {
   "cell_type": "code",
   "execution_count": 80,
   "metadata": {
    "scrolled": true
   },
   "outputs": [
    {
     "data": {
      "image/png": "[encoded data removed]",
      "text/plain": [
       "<Figure size 2160x864 with 1 Axes>"
      ]
     },
     "metadata": {
      "needs_background": "light"
     },
     "output_type": "display_data"
    }
   ],
   "source": [
    "# non missing values by year (column)\n",
    "na_cols = []\n",
    "for i in years:\n",
    "    na_cols.append((num_ind * 196) - int(data[i].isnull().sum(axis=0)))\n",
    "\n",
    "plt.figure(figsize = (30,12))\n",
    "plt.bar(years,na_cols)\n",
    "plt.show()"
   ]
  },
  {
   "cell_type": "markdown",
   "metadata": {},
   "source": [
    "Indicators are mostly availables for the years between 2000 and 2015. Some indicators are clearly cyclic (by a period of 5 years). Some indicators are consistently filled/forcasted from 2020 to 2100."
   ]
  },
  {
   "cell_type": "markdown",
   "metadata": {},
   "source": [
    "??? Do we need old data for our purpose ???"
   ]
  },
  {
   "cell_type": "markdown",
   "metadata": {},
   "source": [
    "### Tactics"
   ]
  },
  {
   "cell_type": "markdown",
   "metadata": {},
   "source": [
    "From the remaining data, which indicators are the most interesting to fullfill our mission ?"
   ]
  },
  {
   "cell_type": "code",
   "execution_count": 97,
   "metadata": {},
   "outputs": [
    {
     "name": "stdout",
     "output_type": "stream",
     "text": [
      "['Gross enrolment ratio, lower secondary, both sexes (%)'\n",
      " 'Gross enrolment ratio, lower secondary, female (%)'\n",
      " 'Gross enrolment ratio, lower secondary, gender parity index (GPI)'\n",
      " 'Gross enrolment ratio, lower secondary, male (%)'\n",
      " 'Gross enrolment ratio, post-secondary non-tertiary, both sexes (%)'\n",
      " 'Gross enrolment ratio, post-secondary non-tertiary, female (%)'\n",
      " 'Gross enrolment ratio, post-secondary non-tertiary, gender parity index (GPI)'\n",
      " 'Gross enrolment ratio, post-secondary non-tertiary, male (%)'\n",
      " 'Gross enrolment ratio, pre-primary, both sexes (%)'\n",
      " 'Gross enrolment ratio, pre-primary, female (%)'\n",
      " 'Gross enrolment ratio, pre-primary, gender parity index (GPI)'\n",
      " 'Gross enrolment ratio, pre-primary, male (%)'\n",
      " 'Gross enrolment ratio, primary and lower secondary, both sexes (%)'\n",
      " 'Gross enrolment ratio, primary and lower secondary, female (%)'\n",
      " 'Gross enrolment ratio, primary and lower secondary, gender parity index (GPI)'\n",
      " 'Gross enrolment ratio, primary and lower secondary, male (%)'\n",
      " 'Gross enrolment ratio, primary and secondary, both sexes (%)'\n",
      " 'Gross enrolment ratio, primary and secondary, female (%)'\n",
      " 'Gross enrolment ratio, primary and secondary, gender parity index (GPI)'\n",
      " 'Gross enrolment ratio, primary and secondary, male (%)'\n",
      " 'Gross enrolment ratio, primary to tertiary, both sexes (%)'\n",
      " 'Gross enrolment ratio, primary to tertiary, female (%)'\n",
      " 'Gross enrolment ratio, primary to tertiary, gender parity index (GPI)'\n",
      " 'Gross enrolment ratio, primary to tertiary, male (%)'\n",
      " 'Gross enrolment ratio, primary, both sexes (%)'\n",
      " 'Gross enrolment ratio, primary, female (%)'\n",
      " 'Gross enrolment ratio, primary, gender parity index (GPI)'\n",
      " 'Gross enrolment ratio, primary, male (%)'\n",
      " 'Gross enrolment ratio, secondary, both sexes (%)'\n",
      " 'Gross enrolment ratio, secondary, female (%)'\n",
      " 'Gross enrolment ratio, secondary, gender parity index (GPI)'\n",
      " 'Gross enrolment ratio, secondary, male (%)'\n",
      " 'Gross enrolment ratio, tertiary, both sexes (%)'\n",
      " 'Gross enrolment ratio, tertiary, female (%)'\n",
      " 'Gross enrolment ratio, tertiary, gender parity index (GPI)'\n",
      " 'Gross enrolment ratio, tertiary, male (%)'\n",
      " 'Gross enrolment ratio, upper secondary, both sexes (%)'\n",
      " 'Gross enrolment ratio, upper secondary, female (%)'\n",
      " 'Gross enrolment ratio, upper secondary, gender parity index (GPI)'\n",
      " 'Gross enrolment ratio, upper secondary, male (%)'\n",
      " 'Gross graduation ratio from first degree programmes (ISCED 6 and 7) in tertiary education, both sexes (%)'\n",
      " 'Gross graduation ratio from first degree programmes (ISCED 6 and 7) in tertiary education, female (%)'\n",
      " 'Gross graduation ratio from first degree programmes (ISCED 6 and 7) in tertiary education, male (%)'\n",
      " 'Gross intake ratio to Grade 1 of lower secondary general education, both sexes (%)'\n",
      " 'Gross intake ratio to Grade 1 of primary education, both sexes (%)'\n",
      " 'Gross outbound enrolment ratio, all regions, both sexes (%)']\n"
     ]
    }
   ],
   "source": [
    "print(data[data['Indicator Name'].str.contains('')]['Indicator Name'].unique())"
   ]
  },
  {
   "cell_type": "code",
   "execution_count": null,
   "metadata": {},
   "outputs": [],
   "source": [
    "['Expenditure on education as % of total government expenditure (%)',\n",
    "'Internet users (per 100 people)',\n",
    "'Personal computers (per 100 people)',\n",
    "'Population growth (annual %)',\n",
    "'Population, total',\n",
    "'Total outbound internationally mobile tertiary students studying abroad, all countries, both sexes (number)']"
   ]
  },
  {
   "cell_type": "code",
   "execution_count": null,
   "metadata": {},
   "outputs": [],
   "source": []
  }
 ],
 "metadata": {
  "kernelspec": {
   "display_name": "Python 3",
   "language": "python",
   "name": "python3"
  },
  "language_info": {
   "codemirror_mode": {
    "name": "ipython",
    "version": 3
   },
   "file_extension": ".py",
   "mimetype": "text/x-python",
   "name": "python",
   "nbconvert_exporter": "python",
   "pygments_lexer": "ipython3",
   "version": "3.8.5"
  },
  "org": null
 },
 "nbformat": 4,
 "nbformat_minor": 1
}
